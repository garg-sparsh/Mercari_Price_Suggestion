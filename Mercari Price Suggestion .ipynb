{
 "cells": [
  {
   "cell_type": "markdown",
   "metadata": {},
   "source": [
    "![Image of Yaktocat](https://www.xoxly.com/wp-content/uploads/2017/12/ogp.png)"
   ]
  },
  {
   "cell_type": "markdown",
   "metadata": {},
   "source": [
    "## Mercari Price Suggestion Challenge\n",
    "**Can you automatically suggest product prices to online sellers?**\n",
    "\n",
    "**It can be hard to know how much something’s really worth**. Small details can mean big differences in pricing. For example, one of these sweaters costs 335usd and other one is 10usd. Can you guess which one’s which?\n",
    "\n",
    "![Image of Yaktocat](https://storage.googleapis.com/kaggle-media/competitions/mercari/mercari_comparison.png)\n",
    "\n",
    "**Product pricing gets even harder at scale**, considering just how many products are sold online. Clothing has strong seasonal pricing trends and is heavily influenced by brand names, while electronics have fluctuating prices based on product specs.\n",
    "\n",
    "***Mercari, Japan’s biggest community-powered shopping app, knows this problem deeply***. They’d like to offer pricing suggestions to sellers, but this is tough because their sellers are enabled to put just about anything, or any bundle of things, on Mercari's marketplace.\n",
    "\n",
    "In this competition, Mercari’s challenging you to **build an algorithm that automatically suggests the right product prices**. You’ll be provided user-inputted text descriptions of their products, including details like product category name, brand name, and item condition."
   ]
  },
  {
   "cell_type": "markdown",
   "metadata": {},
   "source": [
    "## Parameters given by Mercari to predict:\n",
    "\n",
    "1. **Id** : Id of the product\n",
    "2. **Name**: title of the product\n",
    "3. **Condition**: condition of the product (0: bad, 5: new)\n",
    "4. **Category_name**: Category which product belongs to\n",
    "5. **Brand_name**: Brand which product belongs to\n",
    "6. **Shipping**: who (buyer/seller) will buy shipping charges\n",
    "7. **Description**: product description in more detail\n",
    "\n",
    "## Target \n",
    "**Price**: Value of that product"
   ]
  },
  {
   "cell_type": "markdown",
   "metadata": {},
   "source": [
    "## General Report\n",
    "\n",
    "**What's the objective behind this challenge**: To create an optimized algorithm which can recommend prices to the users \n",
    "\n",
    "**What will be the outcome of the objective** : If the algorithm is good enough, then users will use the application more often which will eventually increase the sales.\n",
    "\n",
    "**How to classify the problem**: Since we need to predict the prices, so its a Supervised Machine Learning, we'll use different ML algorithms to get the good result.\n",
    "\n",
    "**How to measure the performance of the problem**: In creation of supervised ML model, generally we use RMSE (Root mean square error) but in this case we'll use RMSLE (Root mean square logarithmic error).\n",
    "\n",
    "**What other things can affect the model**: Parameters like Geographical location, time, economic conditions can help in predicting the prices more better."
   ]
  },
  {
   "cell_type": "markdown",
   "metadata": {},
   "source": [
    "## Importing Libraries"
   ]
  },
  {
   "cell_type": "code",
   "execution_count": 5,
   "metadata": {},
   "outputs": [],
   "source": [
    "import pandas as pd\n",
    "import seaborn as sns\n",
    "import numpy as np\n",
    "import matplotlib.pyplot as plt\n",
    "pd.set_option('display.float_format', lambda x: '%.3f' % x)\n",
    "import warnings\n",
    "warnings.filterwarnings('ignore')"
   ]
  },
  {
   "cell_type": "code",
   "execution_count": 6,
   "metadata": {},
   "outputs": [
    {
     "data": {
      "text/html": [
       "<div>\n",
       "<style scoped>\n",
       "    .dataframe tbody tr th:only-of-type {\n",
       "        vertical-align: middle;\n",
       "    }\n",
       "\n",
       "    .dataframe tbody tr th {\n",
       "        vertical-align: top;\n",
       "    }\n",
       "\n",
       "    .dataframe thead th {\n",
       "        text-align: right;\n",
       "    }\n",
       "</style>\n",
       "<table border=\"1\" class=\"dataframe\">\n",
       "  <thead>\n",
       "    <tr style=\"text-align: right;\">\n",
       "      <th></th>\n",
       "      <th>train_id</th>\n",
       "      <th>name</th>\n",
       "      <th>item_condition_id</th>\n",
       "      <th>category_name</th>\n",
       "      <th>brand_name</th>\n",
       "      <th>price</th>\n",
       "      <th>shipping</th>\n",
       "      <th>item_description</th>\n",
       "    </tr>\n",
       "  </thead>\n",
       "  <tbody>\n",
       "    <tr>\n",
       "      <th>0</th>\n",
       "      <td>0</td>\n",
       "      <td>MLB Cincinnati Reds T Shirt Size XL</td>\n",
       "      <td>3</td>\n",
       "      <td>Men/Tops/T-shirts</td>\n",
       "      <td>NaN</td>\n",
       "      <td>10.000</td>\n",
       "      <td>1</td>\n",
       "      <td>No description yet</td>\n",
       "    </tr>\n",
       "    <tr>\n",
       "      <th>1</th>\n",
       "      <td>1</td>\n",
       "      <td>Razer BlackWidow Chroma Keyboard</td>\n",
       "      <td>3</td>\n",
       "      <td>Electronics/Computers &amp; Tablets/Components &amp; P...</td>\n",
       "      <td>Razer</td>\n",
       "      <td>52.000</td>\n",
       "      <td>0</td>\n",
       "      <td>This keyboard is in great condition and works ...</td>\n",
       "    </tr>\n",
       "    <tr>\n",
       "      <th>2</th>\n",
       "      <td>2</td>\n",
       "      <td>AVA-VIV Blouse</td>\n",
       "      <td>1</td>\n",
       "      <td>Women/Tops &amp; Blouses/Blouse</td>\n",
       "      <td>Target</td>\n",
       "      <td>10.000</td>\n",
       "      <td>1</td>\n",
       "      <td>Adorable top with a hint of lace and a key hol...</td>\n",
       "    </tr>\n",
       "    <tr>\n",
       "      <th>3</th>\n",
       "      <td>3</td>\n",
       "      <td>Leather Horse Statues</td>\n",
       "      <td>1</td>\n",
       "      <td>Home/Home Décor/Home Décor Accents</td>\n",
       "      <td>NaN</td>\n",
       "      <td>35.000</td>\n",
       "      <td>1</td>\n",
       "      <td>New with tags. Leather horses. Retail for [rm]...</td>\n",
       "    </tr>\n",
       "    <tr>\n",
       "      <th>4</th>\n",
       "      <td>4</td>\n",
       "      <td>24K GOLD plated rose</td>\n",
       "      <td>1</td>\n",
       "      <td>Women/Jewelry/Necklaces</td>\n",
       "      <td>NaN</td>\n",
       "      <td>44.000</td>\n",
       "      <td>0</td>\n",
       "      <td>Complete with certificate of authenticity</td>\n",
       "    </tr>\n",
       "  </tbody>\n",
       "</table>\n",
       "</div>"
      ],
      "text/plain": [
       "   train_id                                 name  item_condition_id  \\\n",
       "0         0  MLB Cincinnati Reds T Shirt Size XL                  3   \n",
       "1         1     Razer BlackWidow Chroma Keyboard                  3   \n",
       "2         2                       AVA-VIV Blouse                  1   \n",
       "3         3                Leather Horse Statues                  1   \n",
       "4         4                 24K GOLD plated rose                  1   \n",
       "\n",
       "                                       category_name brand_name  price  \\\n",
       "0                                  Men/Tops/T-shirts        NaN 10.000   \n",
       "1  Electronics/Computers & Tablets/Components & P...      Razer 52.000   \n",
       "2                        Women/Tops & Blouses/Blouse     Target 10.000   \n",
       "3                 Home/Home Décor/Home Décor Accents        NaN 35.000   \n",
       "4                            Women/Jewelry/Necklaces        NaN 44.000   \n",
       "\n",
       "   shipping                                   item_description  \n",
       "0         1                                 No description yet  \n",
       "1         0  This keyboard is in great condition and works ...  \n",
       "2         1  Adorable top with a hint of lace and a key hol...  \n",
       "3         1  New with tags. Leather horses. Retail for [rm]...  \n",
       "4         0          Complete with certificate of authenticity  "
      ]
     },
     "execution_count": 6,
     "metadata": {},
     "output_type": "execute_result"
    }
   ],
   "source": [
    "train_data = pd.read_csv('data/train.tsv', delimiter= '\\t')\n",
    "train_data.head()"
   ]
  },
  {
   "cell_type": "code",
   "execution_count": 20,
   "metadata": {},
   "outputs": [
    {
     "data": {
      "text/html": [
       "<div>\n",
       "<style scoped>\n",
       "    .dataframe tbody tr th:only-of-type {\n",
       "        vertical-align: middle;\n",
       "    }\n",
       "\n",
       "    .dataframe tbody tr th {\n",
       "        vertical-align: top;\n",
       "    }\n",
       "\n",
       "    .dataframe thead th {\n",
       "        text-align: right;\n",
       "    }\n",
       "</style>\n",
       "<table border=\"1\" class=\"dataframe\">\n",
       "  <thead>\n",
       "    <tr style=\"text-align: right;\">\n",
       "      <th></th>\n",
       "      <th>test_id</th>\n",
       "      <th>name</th>\n",
       "      <th>item_condition_id</th>\n",
       "      <th>category_name</th>\n",
       "      <th>brand_name</th>\n",
       "      <th>shipping</th>\n",
       "      <th>item_description</th>\n",
       "    </tr>\n",
       "  </thead>\n",
       "  <tbody>\n",
       "    <tr>\n",
       "      <th>0</th>\n",
       "      <td>0</td>\n",
       "      <td>Breast cancer \"I fight like a girl\" ring</td>\n",
       "      <td>1</td>\n",
       "      <td>Women/Jewelry/Rings</td>\n",
       "      <td>NaN</td>\n",
       "      <td>1</td>\n",
       "      <td>Size 7</td>\n",
       "    </tr>\n",
       "    <tr>\n",
       "      <th>1</th>\n",
       "      <td>1</td>\n",
       "      <td>25 pcs NEW 7.5\"x12\" Kraft Bubble Mailers</td>\n",
       "      <td>1</td>\n",
       "      <td>Other/Office supplies/Shipping Supplies</td>\n",
       "      <td>NaN</td>\n",
       "      <td>1</td>\n",
       "      <td>25 pcs NEW 7.5\"x12\" Kraft Bubble Mailers Lined...</td>\n",
       "    </tr>\n",
       "    <tr>\n",
       "      <th>2</th>\n",
       "      <td>2</td>\n",
       "      <td>Coach bag</td>\n",
       "      <td>1</td>\n",
       "      <td>Vintage &amp; Collectibles/Bags and Purses/Handbag</td>\n",
       "      <td>Coach</td>\n",
       "      <td>1</td>\n",
       "      <td>Brand new coach bag. Bought for [rm] at a Coac...</td>\n",
       "    </tr>\n",
       "    <tr>\n",
       "      <th>3</th>\n",
       "      <td>3</td>\n",
       "      <td>Floral Kimono</td>\n",
       "      <td>2</td>\n",
       "      <td>Women/Sweaters/Cardigan</td>\n",
       "      <td>NaN</td>\n",
       "      <td>0</td>\n",
       "      <td>-floral kimono -never worn -lightweight and pe...</td>\n",
       "    </tr>\n",
       "    <tr>\n",
       "      <th>4</th>\n",
       "      <td>4</td>\n",
       "      <td>Life after Death</td>\n",
       "      <td>3</td>\n",
       "      <td>Other/Books/Religion &amp; Spirituality</td>\n",
       "      <td>NaN</td>\n",
       "      <td>1</td>\n",
       "      <td>Rediscovering life after the loss of a loved o...</td>\n",
       "    </tr>\n",
       "  </tbody>\n",
       "</table>\n",
       "</div>"
      ],
      "text/plain": [
       "   test_id                                      name  item_condition_id  \\\n",
       "0        0  Breast cancer \"I fight like a girl\" ring                  1   \n",
       "1        1  25 pcs NEW 7.5\"x12\" Kraft Bubble Mailers                  1   \n",
       "2        2                                 Coach bag                  1   \n",
       "3        3                             Floral Kimono                  2   \n",
       "4        4                          Life after Death                  3   \n",
       "\n",
       "                                    category_name brand_name  shipping  \\\n",
       "0                             Women/Jewelry/Rings        NaN         1   \n",
       "1         Other/Office supplies/Shipping Supplies        NaN         1   \n",
       "2  Vintage & Collectibles/Bags and Purses/Handbag      Coach         1   \n",
       "3                         Women/Sweaters/Cardigan        NaN         0   \n",
       "4             Other/Books/Religion & Spirituality        NaN         1   \n",
       "\n",
       "                                    item_description  \n",
       "0                                             Size 7  \n",
       "1  25 pcs NEW 7.5\"x12\" Kraft Bubble Mailers Lined...  \n",
       "2  Brand new coach bag. Bought for [rm] at a Coac...  \n",
       "3  -floral kimono -never worn -lightweight and pe...  \n",
       "4  Rediscovering life after the loss of a loved o...  "
      ]
     },
     "execution_count": 20,
     "metadata": {},
     "output_type": "execute_result"
    }
   ],
   "source": [
    "test_data_1 = pd.read_csv('data/test.tsv', delimiter= '\\t')\n",
    "test_data_1.head()"
   ]
  },
  {
   "cell_type": "markdown",
   "metadata": {},
   "source": [
    "Here, in both datasets we can see some **NaN values** which we need to remove"
   ]
  },
  {
   "cell_type": "markdown",
   "metadata": {},
   "source": [
    "## Exploratory Data Analysis"
   ]
  },
  {
   "cell_type": "markdown",
   "metadata": {},
   "source": [
    "### Price Distribution"
   ]
  },
  {
   "cell_type": "markdown",
   "metadata": {},
   "source": [
    "By Analysing Price, we found:\n",
    "\n",
    "* **Mean**: 26 USD\n",
    "* **Median**: 17 USD\n",
    "* **Std**: 38 USD\n",
    "* **Max price**: 2009 USD\n",
    "* **Min price**: 0 USD (doesn't make any sense)\n",
    "* Price distribution is **right skewed** due to this we can see the difference between Mean and Standard deviation.\n",
    "* Buyer will pay more if he pays for shipping."
   ]
  },
  {
   "cell_type": "code",
   "execution_count": 21,
   "metadata": {},
   "outputs": [
    {
     "data": {
      "text/plain": [
       "count   1482535.000\n",
       "mean         26.738\n",
       "std          38.586\n",
       "min           0.000\n",
       "25%          10.000\n",
       "50%          17.000\n",
       "75%          29.000\n",
       "max        2009.000\n",
       "Name: price, dtype: float64"
      ]
     },
     "execution_count": 21,
     "metadata": {},
     "output_type": "execute_result"
    }
   ],
   "source": [
    "train_data.price.describe()"
   ]
  },
  {
   "cell_type": "code",
   "execution_count": 22,
   "metadata": {},
   "outputs": [],
   "source": [
    "def plot_histogram(column, range_size, color, bins, title, xlabel, ylabel):\n",
    "    plt.subplots(figsize=(15,5))\n",
    "    plt.hist(train_data[(train_data[column] > range_size[0]) & (train_data[column] < range_size[1])]['price'], bins=bins, \n",
    "             color= color, edgecolor = 'black')\n",
    "    plt.title(title)\n",
    "    plt.xlabel(xlabel)\n",
    "    plt.ylabel(ylabel)"
   ]
  },
  {
   "cell_type": "code",
   "execution_count": 23,
   "metadata": {},
   "outputs": [
    {
     "data": {
      "image/png": "[encoded data removed]",
      "text/plain": [
       "<Figure size 1080x360 with 1 Axes>"
      ]
     },
     "metadata": {
      "needs_background": "light"
     },
     "output_type": "display_data"
    }
   ],
   "source": [
    "plot_histogram('price', (0,300), 'blue', 50, 'Price Distribution', 'Price', 'Counts')"
   ]
  },
  {
   "cell_type": "code",
   "execution_count": 24,
   "metadata": {},
   "outputs": [
    {
     "data": {
      "image/png": "[encoded data removed]",
      "text/plain": [
       "<Figure size 432x288 with 1 Axes>"
      ]
     },
     "metadata": {
      "needs_background": "light"
     },
     "output_type": "display_data"
    }
   ],
   "source": [
    "ax = sns.countplot(x=\"shipping\", data=train_data)"
   ]
  },
  {
   "cell_type": "markdown",
   "metadata": {},
   "source": [
    "By seeing the countplot of shipping we can say proporation of **Seller paying for shipping is little higher**."
   ]
  },
  {
   "cell_type": "code",
   "execution_count": 25,
   "metadata": {},
   "outputs": [],
   "source": [
    "def plot_shipping():\n",
    "    plt.subplots(figsize=(15,5))\n",
    "    plt.hist(train_data[train_data['shipping'] ==1]['price'], bins=50, color= 'green', edgecolor = 'black', \n",
    "             range=[0,300], normed=True, label = 'seller is paying for shipping', alpha = 0.5)\n",
    "    plt.hist(train_data[train_data['shipping'] ==0]['price'], bins=50, color= 'orange', edgecolor = 'black', \n",
    "             range=[0,300], normed=True, label = 'buyer is paying for shipping', alpha = 0.5)\n",
    "    plt.title('Price Distribution With/Without Shipping', fontsize=15)\n",
    "    plt.xlabel('Price')\n",
    "    plt.ylabel('Normalized Samples')\n",
    "    plt.legend()"
   ]
  },
  {
   "cell_type": "code",
   "execution_count": 26,
   "metadata": {},
   "outputs": [
    {
     "data": {
      "image/png": "[encoded data removed]",
      "text/plain": [
       "<Figure size 1080x360 with 1 Axes>"
      ]
     },
     "metadata": {
      "needs_background": "light"
     },
     "output_type": "display_data"
    }
   ],
   "source": [
    "plot_shipping()"
   ]
  },
  {
   "cell_type": "code",
   "execution_count": 30,
   "metadata": {},
   "outputs": [
    {
     "data": {
      "text/plain": [
       "14.0"
      ]
     },
     "execution_count": 30,
     "metadata": {},
     "output_type": "execute_result"
    }
   ],
   "source": [
    "train_data[train_data['shipping'] == 1]['price'].median()"
   ]
  },
  {
   "cell_type": "code",
   "execution_count": 31,
   "metadata": {},
   "outputs": [
    {
     "data": {
      "text/plain": [
       "20.0"
      ]
     },
     "execution_count": 31,
     "metadata": {},
     "output_type": "execute_result"
    }
   ],
   "source": [
    "train_data[train_data['shipping'] == 0]['price'].median()"
   ]
  },
  {
   "cell_type": "markdown",
   "metadata": {},
   "source": [
    "As we imagined that if **buyer pays for shipping then mean price will be high**"
   ]
  },
  {
   "cell_type": "markdown",
   "metadata": {},
   "source": [
    "### Brand Analysis"
   ]
  },
  {
   "cell_type": "code",
   "execution_count": 32,
   "metadata": {
    "scrolled": true
   },
   "outputs": [
    {
     "data": {
      "text/html": [
       "<div>\n",
       "<style scoped>\n",
       "    .dataframe tbody tr th:only-of-type {\n",
       "        vertical-align: middle;\n",
       "    }\n",
       "\n",
       "    .dataframe tbody tr th {\n",
       "        vertical-align: top;\n",
       "    }\n",
       "\n",
       "    .dataframe thead th {\n",
       "        text-align: right;\n",
       "    }\n",
       "</style>\n",
       "<table border=\"1\" class=\"dataframe\">\n",
       "  <thead>\n",
       "    <tr style=\"text-align: right;\">\n",
       "      <th></th>\n",
       "      <th>index</th>\n",
       "      <th>brand_name</th>\n",
       "    </tr>\n",
       "  </thead>\n",
       "  <tbody>\n",
       "    <tr>\n",
       "      <th>0</th>\n",
       "      <td>PINK</td>\n",
       "      <td>54088</td>\n",
       "    </tr>\n",
       "    <tr>\n",
       "      <th>1</th>\n",
       "      <td>Nike</td>\n",
       "      <td>54043</td>\n",
       "    </tr>\n",
       "    <tr>\n",
       "      <th>2</th>\n",
       "      <td>Victoria's Secret</td>\n",
       "      <td>48036</td>\n",
       "    </tr>\n",
       "    <tr>\n",
       "      <th>3</th>\n",
       "      <td>LuLaRoe</td>\n",
       "      <td>31024</td>\n",
       "    </tr>\n",
       "    <tr>\n",
       "      <th>4</th>\n",
       "      <td>Apple</td>\n",
       "      <td>17322</td>\n",
       "    </tr>\n",
       "    <tr>\n",
       "      <th>5</th>\n",
       "      <td>FOREVER 21</td>\n",
       "      <td>15186</td>\n",
       "    </tr>\n",
       "    <tr>\n",
       "      <th>6</th>\n",
       "      <td>Nintendo</td>\n",
       "      <td>15007</td>\n",
       "    </tr>\n",
       "    <tr>\n",
       "      <th>7</th>\n",
       "      <td>Lululemon</td>\n",
       "      <td>14558</td>\n",
       "    </tr>\n",
       "    <tr>\n",
       "      <th>8</th>\n",
       "      <td>Michael Kors</td>\n",
       "      <td>13928</td>\n",
       "    </tr>\n",
       "    <tr>\n",
       "      <th>9</th>\n",
       "      <td>American Eagle</td>\n",
       "      <td>13254</td>\n",
       "    </tr>\n",
       "    <tr>\n",
       "      <th>10</th>\n",
       "      <td>Rae Dunn</td>\n",
       "      <td>12305</td>\n",
       "    </tr>\n",
       "    <tr>\n",
       "      <th>11</th>\n",
       "      <td>Sephora</td>\n",
       "      <td>12172</td>\n",
       "    </tr>\n",
       "    <tr>\n",
       "      <th>12</th>\n",
       "      <td>Coach</td>\n",
       "      <td>10463</td>\n",
       "    </tr>\n",
       "    <tr>\n",
       "      <th>13</th>\n",
       "      <td>Disney</td>\n",
       "      <td>10360</td>\n",
       "    </tr>\n",
       "    <tr>\n",
       "      <th>14</th>\n",
       "      <td>Bath &amp; Body Works</td>\n",
       "      <td>10354</td>\n",
       "    </tr>\n",
       "    <tr>\n",
       "      <th>15</th>\n",
       "      <td>Adidas</td>\n",
       "      <td>10202</td>\n",
       "    </tr>\n",
       "    <tr>\n",
       "      <th>16</th>\n",
       "      <td>Funko</td>\n",
       "      <td>9237</td>\n",
       "    </tr>\n",
       "    <tr>\n",
       "      <th>17</th>\n",
       "      <td>Under Armour</td>\n",
       "      <td>8461</td>\n",
       "    </tr>\n",
       "    <tr>\n",
       "      <th>18</th>\n",
       "      <td>Sony</td>\n",
       "      <td>7994</td>\n",
       "    </tr>\n",
       "    <tr>\n",
       "      <th>19</th>\n",
       "      <td>Old Navy</td>\n",
       "      <td>7567</td>\n",
       "    </tr>\n",
       "    <tr>\n",
       "      <th>20</th>\n",
       "      <td>Hollister</td>\n",
       "      <td>6948</td>\n",
       "    </tr>\n",
       "    <tr>\n",
       "      <th>21</th>\n",
       "      <td>Carter's</td>\n",
       "      <td>6385</td>\n",
       "    </tr>\n",
       "    <tr>\n",
       "      <th>22</th>\n",
       "      <td>Urban Decay</td>\n",
       "      <td>6210</td>\n",
       "    </tr>\n",
       "    <tr>\n",
       "      <th>23</th>\n",
       "      <td>The North Face</td>\n",
       "      <td>6172</td>\n",
       "    </tr>\n",
       "    <tr>\n",
       "      <th>24</th>\n",
       "      <td>Independent</td>\n",
       "      <td>5902</td>\n",
       "    </tr>\n",
       "    <tr>\n",
       "      <th>25</th>\n",
       "      <td>Too Faced</td>\n",
       "      <td>5794</td>\n",
       "    </tr>\n",
       "    <tr>\n",
       "      <th>26</th>\n",
       "      <td>Xbox</td>\n",
       "      <td>5709</td>\n",
       "    </tr>\n",
       "    <tr>\n",
       "      <th>27</th>\n",
       "      <td>Brandy Melville</td>\n",
       "      <td>5680</td>\n",
       "    </tr>\n",
       "    <tr>\n",
       "      <th>28</th>\n",
       "      <td>Kate Spade</td>\n",
       "      <td>5411</td>\n",
       "    </tr>\n",
       "    <tr>\n",
       "      <th>29</th>\n",
       "      <td>MAC</td>\n",
       "      <td>5302</td>\n",
       "    </tr>\n",
       "    <tr>\n",
       "      <th>...</th>\n",
       "      <td>...</td>\n",
       "      <td>...</td>\n",
       "    </tr>\n",
       "    <tr>\n",
       "      <th>4779</th>\n",
       "      <td>Palm Grove</td>\n",
       "      <td>1</td>\n",
       "    </tr>\n",
       "    <tr>\n",
       "      <th>4780</th>\n",
       "      <td>TIGLIO</td>\n",
       "      <td>1</td>\n",
       "    </tr>\n",
       "    <tr>\n",
       "      <th>4781</th>\n",
       "      <td>John Blair</td>\n",
       "      <td>1</td>\n",
       "    </tr>\n",
       "    <tr>\n",
       "      <th>4782</th>\n",
       "      <td>Polycom</td>\n",
       "      <td>1</td>\n",
       "    </tr>\n",
       "    <tr>\n",
       "      <th>4783</th>\n",
       "      <td>Xelement</td>\n",
       "      <td>1</td>\n",
       "    </tr>\n",
       "    <tr>\n",
       "      <th>4784</th>\n",
       "      <td>Acne Studios</td>\n",
       "      <td>1</td>\n",
       "    </tr>\n",
       "    <tr>\n",
       "      <th>4785</th>\n",
       "      <td>Maya</td>\n",
       "      <td>1</td>\n",
       "    </tr>\n",
       "    <tr>\n",
       "      <th>4786</th>\n",
       "      <td>TRU-SPEC</td>\n",
       "      <td>1</td>\n",
       "    </tr>\n",
       "    <tr>\n",
       "      <th>4787</th>\n",
       "      <td>Dragon</td>\n",
       "      <td>1</td>\n",
       "    </tr>\n",
       "    <tr>\n",
       "      <th>4788</th>\n",
       "      <td>Anna Kostrova</td>\n",
       "      <td>1</td>\n",
       "    </tr>\n",
       "    <tr>\n",
       "      <th>4789</th>\n",
       "      <td>West Coast Choppers</td>\n",
       "      <td>1</td>\n",
       "    </tr>\n",
       "    <tr>\n",
       "      <th>4790</th>\n",
       "      <td>Fairway</td>\n",
       "      <td>1</td>\n",
       "    </tr>\n",
       "    <tr>\n",
       "      <th>4791</th>\n",
       "      <td>Curvy Couture</td>\n",
       "      <td>1</td>\n",
       "    </tr>\n",
       "    <tr>\n",
       "      <th>4792</th>\n",
       "      <td>Matt Bernson</td>\n",
       "      <td>1</td>\n",
       "    </tr>\n",
       "    <tr>\n",
       "      <th>4793</th>\n",
       "      <td>DDF</td>\n",
       "      <td>1</td>\n",
       "    </tr>\n",
       "    <tr>\n",
       "      <th>4794</th>\n",
       "      <td>Chicago</td>\n",
       "      <td>1</td>\n",
       "    </tr>\n",
       "    <tr>\n",
       "      <th>4795</th>\n",
       "      <td>Rocky Brands, Inc.</td>\n",
       "      <td>1</td>\n",
       "    </tr>\n",
       "    <tr>\n",
       "      <th>4796</th>\n",
       "      <td>Hyland's</td>\n",
       "      <td>1</td>\n",
       "    </tr>\n",
       "    <tr>\n",
       "      <th>4797</th>\n",
       "      <td>Greenleaf Dollhouses</td>\n",
       "      <td>1</td>\n",
       "    </tr>\n",
       "    <tr>\n",
       "      <th>4798</th>\n",
       "      <td>Bepuzzled</td>\n",
       "      <td>1</td>\n",
       "    </tr>\n",
       "    <tr>\n",
       "      <th>4799</th>\n",
       "      <td>Fascinations</td>\n",
       "      <td>1</td>\n",
       "    </tr>\n",
       "    <tr>\n",
       "      <th>4800</th>\n",
       "      <td>Lolly Wolly Doodle</td>\n",
       "      <td>1</td>\n",
       "    </tr>\n",
       "    <tr>\n",
       "      <th>4801</th>\n",
       "      <td>Nutri-Vet</td>\n",
       "      <td>1</td>\n",
       "    </tr>\n",
       "    <tr>\n",
       "      <th>4802</th>\n",
       "      <td>Alien Workshop</td>\n",
       "      <td>1</td>\n",
       "    </tr>\n",
       "    <tr>\n",
       "      <th>4803</th>\n",
       "      <td>Lela Rose</td>\n",
       "      <td>1</td>\n",
       "    </tr>\n",
       "    <tr>\n",
       "      <th>4804</th>\n",
       "      <td>Shane Company</td>\n",
       "      <td>1</td>\n",
       "    </tr>\n",
       "    <tr>\n",
       "      <th>4805</th>\n",
       "      <td>Casual Corner Annex</td>\n",
       "      <td>1</td>\n",
       "    </tr>\n",
       "    <tr>\n",
       "      <th>4806</th>\n",
       "      <td>The Learning Journey</td>\n",
       "      <td>1</td>\n",
       "    </tr>\n",
       "    <tr>\n",
       "      <th>4807</th>\n",
       "      <td>CharmLeaks</td>\n",
       "      <td>1</td>\n",
       "    </tr>\n",
       "    <tr>\n",
       "      <th>4808</th>\n",
       "      <td>Valco Baby</td>\n",
       "      <td>1</td>\n",
       "    </tr>\n",
       "  </tbody>\n",
       "</table>\n",
       "<p>4809 rows × 2 columns</p>\n",
       "</div>"
      ],
      "text/plain": [
       "                     index  brand_name\n",
       "0                     PINK       54088\n",
       "1                     Nike       54043\n",
       "2        Victoria's Secret       48036\n",
       "3                  LuLaRoe       31024\n",
       "4                    Apple       17322\n",
       "5               FOREVER 21       15186\n",
       "6                 Nintendo       15007\n",
       "7                Lululemon       14558\n",
       "8             Michael Kors       13928\n",
       "9           American Eagle       13254\n",
       "10                Rae Dunn       12305\n",
       "11                 Sephora       12172\n",
       "12                   Coach       10463\n",
       "13                  Disney       10360\n",
       "14       Bath & Body Works       10354\n",
       "15                  Adidas       10202\n",
       "16                   Funko        9237\n",
       "17            Under Armour        8461\n",
       "18                    Sony        7994\n",
       "19                Old Navy        7567\n",
       "20               Hollister        6948\n",
       "21                Carter's        6385\n",
       "22             Urban Decay        6210\n",
       "23          The North Face        6172\n",
       "24             Independent        5902\n",
       "25               Too Faced        5794\n",
       "26                    Xbox        5709\n",
       "27         Brandy Melville        5680\n",
       "28              Kate Spade        5411\n",
       "29                     MAC        5302\n",
       "...                    ...         ...\n",
       "4779            Palm Grove           1\n",
       "4780                TIGLIO           1\n",
       "4781            John Blair           1\n",
       "4782               Polycom           1\n",
       "4783              Xelement           1\n",
       "4784          Acne Studios           1\n",
       "4785                  Maya           1\n",
       "4786              TRU-SPEC           1\n",
       "4787                Dragon           1\n",
       "4788         Anna Kostrova           1\n",
       "4789   West Coast Choppers           1\n",
       "4790               Fairway           1\n",
       "4791         Curvy Couture           1\n",
       "4792          Matt Bernson           1\n",
       "4793                   DDF           1\n",
       "4794               Chicago           1\n",
       "4795    Rocky Brands, Inc.           1\n",
       "4796              Hyland's           1\n",
       "4797  Greenleaf Dollhouses           1\n",
       "4798             Bepuzzled           1\n",
       "4799          Fascinations           1\n",
       "4800    Lolly Wolly Doodle           1\n",
       "4801             Nutri-Vet           1\n",
       "4802        Alien Workshop           1\n",
       "4803             Lela Rose           1\n",
       "4804         Shane Company           1\n",
       "4805   Casual Corner Annex           1\n",
       "4806  The Learning Journey           1\n",
       "4807            CharmLeaks           1\n",
       "4808            Valco Baby           1\n",
       "\n",
       "[4809 rows x 2 columns]"
      ]
     },
     "execution_count": 32,
     "metadata": {},
     "output_type": "execute_result"
    }
   ],
   "source": [
    "train_data['brand_name'].value_counts().reset_index()"
   ]
  },
  {
   "cell_type": "markdown",
   "metadata": {},
   "source": [
    "Since we have close to **5000 brand names** , lets checkout **top 50 brands**"
   ]
  },
  {
   "cell_type": "code",
   "execution_count": 37,
   "metadata": {},
   "outputs": [
    {
     "data": {
      "text/plain": [
       "[Text(0, 0.5, 'brand_name'), Text(0.5, 0, 'count')]"
      ]
     },
     "execution_count": 37,
     "metadata": {},
     "output_type": "execute_result"
    },
    {
     "data": {
      "image/png": "[encoded data removed]",
      "text/plain": [
       "<Figure size 1080x720 with 1 Axes>"
      ]
     },
     "metadata": {
      "needs_background": "light"
     },
     "output_type": "display_data"
    }
   ],
   "source": [
    "plt.subplots(figsize=(15,10))\n",
    "ax = sns.barplot(x = 'brand_name', y = 'index', data = train_data['brand_name'].value_counts().reset_index()[:50])\n",
    "ax.set(xlabel='count', ylabel='brand_name')"
   ]
  },
  {
   "cell_type": "code",
   "execution_count": 38,
   "metadata": {},
   "outputs": [
    {
     "data": {
      "text/plain": [
       "<matplotlib.axes._subplots.AxesSubplot at 0x7f7df9df3ba8>"
      ]
     },
     "execution_count": 38,
     "metadata": {},
     "output_type": "execute_result"
    },
    {
     "data": {
      "image/png": "[encoded data removed]",
      "text/plain": [
       "<Figure size 1080x720 with 1 Axes>"
      ]
     },
     "metadata": {
      "needs_background": "light"
     },
     "output_type": "display_data"
    }
   ],
   "source": [
    "brand_mean = train_data.groupby(['brand_name'])['price'].mean()\n",
    "plt.subplots(figsize=(15,10))\n",
    "sns.barplot(x = 'price', y = 'brand_name', data = brand_mean.reset_index().sort_values(by = 'price', \n",
    "                                                                                       ascending = False)[:50])"
   ]
  },
  {
   "cell_type": "markdown",
   "metadata": {},
   "source": [
    "### Category Analysis"
   ]
  },
  {
   "cell_type": "markdown",
   "metadata": {},
   "source": [
    "If we see our data then we'll find that in our category_name **we have three categories segregated by '/'** so lets split them into **three categories named 'main_category', 'sub_category', 'product_category'**."
   ]
  },
  {
   "cell_type": "code",
   "execution_count": 39,
   "metadata": {},
   "outputs": [],
   "source": [
    "def create_sub_categories(dataframe):\n",
    "    dataframe['temp'] = dataframe['category_name'].apply(lambda x: str(x).split('/'))\n",
    "    main_category = []\n",
    "    sub_category = []\n",
    "    sub_category2 = []\n",
    "    for i in dataframe['temp'].values:\n",
    "        main_category.append(i[0])\n",
    "        try:\n",
    "            sub_category.append(i[1])\n",
    "        except:\n",
    "            sub_category.append(np.nan)\n",
    "        try:\n",
    "            sub_category2.append(i[2])\n",
    "        except:\n",
    "            sub_category2.append(np.nan)\n",
    "    dataframe['main_category'] = main_category\n",
    "    dataframe['sub_category'] =sub_category\n",
    "    dataframe['sub_category2']= sub_category2\n",
    "    dataframe = dataframe.drop(columns='temp')\n",
    "    return dataframe"
   ]
  },
  {
   "cell_type": "code",
   "execution_count": 40,
   "metadata": {},
   "outputs": [
    {
     "data": {
      "text/html": [
       "<div>\n",
       "<style scoped>\n",
       "    .dataframe tbody tr th:only-of-type {\n",
       "        vertical-align: middle;\n",
       "    }\n",
       "\n",
       "    .dataframe tbody tr th {\n",
       "        vertical-align: top;\n",
       "    }\n",
       "\n",
       "    .dataframe thead th {\n",
       "        text-align: right;\n",
       "    }\n",
       "</style>\n",
       "<table border=\"1\" class=\"dataframe\">\n",
       "  <thead>\n",
       "    <tr style=\"text-align: right;\">\n",
       "      <th></th>\n",
       "      <th>category_name</th>\n",
       "      <th>price</th>\n",
       "      <th>main_category</th>\n",
       "      <th>sub_category</th>\n",
       "      <th>sub_category2</th>\n",
       "    </tr>\n",
       "  </thead>\n",
       "  <tbody>\n",
       "    <tr>\n",
       "      <th>0</th>\n",
       "      <td>Men/Tops/T-shirts</td>\n",
       "      <td>10.000</td>\n",
       "      <td>Men</td>\n",
       "      <td>Tops</td>\n",
       "      <td>T-shirts</td>\n",
       "    </tr>\n",
       "    <tr>\n",
       "      <th>1</th>\n",
       "      <td>Electronics/Computers &amp; Tablets/Components &amp; P...</td>\n",
       "      <td>52.000</td>\n",
       "      <td>Electronics</td>\n",
       "      <td>Computers &amp; Tablets</td>\n",
       "      <td>Components &amp; Parts</td>\n",
       "    </tr>\n",
       "    <tr>\n",
       "      <th>2</th>\n",
       "      <td>Women/Tops &amp; Blouses/Blouse</td>\n",
       "      <td>10.000</td>\n",
       "      <td>Women</td>\n",
       "      <td>Tops &amp; Blouses</td>\n",
       "      <td>Blouse</td>\n",
       "    </tr>\n",
       "    <tr>\n",
       "      <th>3</th>\n",
       "      <td>Home/Home Décor/Home Décor Accents</td>\n",
       "      <td>35.000</td>\n",
       "      <td>Home</td>\n",
       "      <td>Home Décor</td>\n",
       "      <td>Home Décor Accents</td>\n",
       "    </tr>\n",
       "    <tr>\n",
       "      <th>4</th>\n",
       "      <td>Women/Jewelry/Necklaces</td>\n",
       "      <td>44.000</td>\n",
       "      <td>Women</td>\n",
       "      <td>Jewelry</td>\n",
       "      <td>Necklaces</td>\n",
       "    </tr>\n",
       "  </tbody>\n",
       "</table>\n",
       "</div>"
      ],
      "text/plain": [
       "                                       category_name  price main_category  \\\n",
       "0                                  Men/Tops/T-shirts 10.000           Men   \n",
       "1  Electronics/Computers & Tablets/Components & P... 52.000   Electronics   \n",
       "2                        Women/Tops & Blouses/Blouse 10.000         Women   \n",
       "3                 Home/Home Décor/Home Décor Accents 35.000          Home   \n",
       "4                            Women/Jewelry/Necklaces 44.000         Women   \n",
       "\n",
       "          sub_category       sub_category2  \n",
       "0                 Tops            T-shirts  \n",
       "1  Computers & Tablets  Components & Parts  \n",
       "2       Tops & Blouses              Blouse  \n",
       "3           Home Décor  Home Décor Accents  \n",
       "4              Jewelry           Necklaces  "
      ]
     },
     "execution_count": 40,
     "metadata": {},
     "output_type": "execute_result"
    }
   ],
   "source": [
    "category_df = train_data[['category_name', 'price']]\n",
    "category_df = create_sub_categories(category_df)\n",
    "category_df.head()"
   ]
  },
  {
   "cell_type": "markdown",
   "metadata": {},
   "source": [
    "#### Major contributer main category in the distribution "
   ]
  },
  {
   "cell_type": "code",
   "execution_count": 41,
   "metadata": {},
   "outputs": [
    {
     "data": {
      "text/plain": [
       "<matplotlib.axes._subplots.AxesSubplot at 0x7f7dd354f4e0>"
      ]
     },
     "execution_count": 41,
     "metadata": {},
     "output_type": "execute_result"
    },
    {
     "data": {
      "image/png": "[encoded data removed]",
      "text/plain": [
       "<Figure size 720x360 with 1 Axes>"
      ]
     },
     "metadata": {
      "needs_background": "light"
     },
     "output_type": "display_data"
    }
   ],
   "source": [
    "f, ax = plt.subplots(figsize=(10, 5))\n",
    "sns.countplot(y=\"main_category\", data=category_df, color=\"c\")"
   ]
  },
  {
   "cell_type": "markdown",
   "metadata": {},
   "source": [
    "#### Top 25 Major contributer at sub_category in the distribution¶"
   ]
  },
  {
   "cell_type": "code",
   "execution_count": 53,
   "metadata": {},
   "outputs": [
    {
     "data": {
      "text/plain": [
       "(array([ 0,  1,  2,  3,  4,  5,  6,  7,  8,  9, 10, 11, 12, 13, 14, 15, 16,\n",
       "        17, 18, 19, 20, 21, 22, 23, 24]),\n",
       " <a list of 25 Text xticklabel objects>)"
      ]
     },
     "execution_count": 53,
     "metadata": {},
     "output_type": "execute_result"
    },
    {
     "data": {
      "image/png": "[encoded data removed]",
      "text/plain": [
       "<Figure size 1440x504 with 1 Axes>"
      ]
     },
     "metadata": {},
     "output_type": "display_data"
    }
   ],
   "source": [
    "f, ax = plt.subplots(figsize=(20, 7))\n",
    "sns.set(style=\"darkgrid\")\n",
    "sns.countplot(x=\"sub_category\", data=category_df, color=\"blue\", \n",
    "              order=category_df.sub_category.value_counts().iloc[:25].index)\n",
    "plt.xticks(rotation=90)"
   ]
  },
  {
   "cell_type": "markdown",
   "metadata": {},
   "source": [
    "#### Top 25 Major contributer at sub_category2 in the distribution¶"
   ]
  },
  {
   "cell_type": "code",
   "execution_count": 54,
   "metadata": {},
   "outputs": [
    {
     "data": {
      "text/plain": [
       "(array([ 0,  1,  2,  3,  4,  5,  6,  7,  8,  9, 10, 11, 12, 13, 14, 15, 16,\n",
       "        17, 18, 19, 20, 21, 22, 23, 24]),\n",
       " <a list of 25 Text xticklabel objects>)"
      ]
     },
     "execution_count": 54,
     "metadata": {},
     "output_type": "execute_result"
    },
    {
     "data": {
      "image/png": "[encoded data removed]",
      "text/plain": [
       "<Figure size 1440x504 with 1 Axes>"
      ]
     },
     "metadata": {},
     "output_type": "display_data"
    }
   ],
   "source": [
    "f, ax = plt.subplots(figsize=(20, 7))\n",
    "sns.countplot(x=\"sub_category2\", data=category_df, color=\"red\", \n",
    "              order=category_df.sub_category2.value_counts().iloc[:25].index)\n",
    "plt.xticks(rotation=90)"
   ]
  },
  {
   "cell_type": "markdown",
   "metadata": {},
   "source": [
    "### Item Discription Analysis\n",
    "We need to know how item discription depends on the price, if the length of discription starts increasing then price starts falling down or start increasing\n",
    "\n",
    "**Result:** We determined that Price of an item will get stagnant as length of item_discription increases. So it means price depends on the content of the description."
   ]
  },
  {
   "cell_type": "code",
   "execution_count": 55,
   "metadata": {},
   "outputs": [],
   "source": [
    "item_descrip_analysis = train_data[['item_description', 'price']]\n",
    "item_descrip_analysis['length'] = item_descrip_analysis['item_description'].apply(lambda x: len(str(x)))"
   ]
  },
  {
   "cell_type": "code",
   "execution_count": 56,
   "metadata": {},
   "outputs": [
    {
     "data": {
      "text/html": [
       "<div>\n",
       "<style scoped>\n",
       "    .dataframe tbody tr th:only-of-type {\n",
       "        vertical-align: middle;\n",
       "    }\n",
       "\n",
       "    .dataframe tbody tr th {\n",
       "        vertical-align: top;\n",
       "    }\n",
       "\n",
       "    .dataframe thead th {\n",
       "        text-align: right;\n",
       "    }\n",
       "</style>\n",
       "<table border=\"1\" class=\"dataframe\">\n",
       "  <thead>\n",
       "    <tr style=\"text-align: right;\">\n",
       "      <th></th>\n",
       "      <th>item_description</th>\n",
       "      <th>price</th>\n",
       "      <th>length</th>\n",
       "    </tr>\n",
       "  </thead>\n",
       "  <tbody>\n",
       "    <tr>\n",
       "      <th>0</th>\n",
       "      <td>No description yet</td>\n",
       "      <td>10.000</td>\n",
       "      <td>18</td>\n",
       "    </tr>\n",
       "    <tr>\n",
       "      <th>1</th>\n",
       "      <td>This keyboard is in great condition and works ...</td>\n",
       "      <td>52.000</td>\n",
       "      <td>188</td>\n",
       "    </tr>\n",
       "    <tr>\n",
       "      <th>2</th>\n",
       "      <td>Adorable top with a hint of lace and a key hol...</td>\n",
       "      <td>10.000</td>\n",
       "      <td>124</td>\n",
       "    </tr>\n",
       "    <tr>\n",
       "      <th>3</th>\n",
       "      <td>New with tags. Leather horses. Retail for [rm]...</td>\n",
       "      <td>35.000</td>\n",
       "      <td>173</td>\n",
       "    </tr>\n",
       "    <tr>\n",
       "      <th>4</th>\n",
       "      <td>Complete with certificate of authenticity</td>\n",
       "      <td>44.000</td>\n",
       "      <td>41</td>\n",
       "    </tr>\n",
       "  </tbody>\n",
       "</table>\n",
       "</div>"
      ],
      "text/plain": [
       "                                    item_description  price  length\n",
       "0                                 No description yet 10.000      18\n",
       "1  This keyboard is in great condition and works ... 52.000     188\n",
       "2  Adorable top with a hint of lace and a key hol... 10.000     124\n",
       "3  New with tags. Leather horses. Retail for [rm]... 35.000     173\n",
       "4          Complete with certificate of authenticity 44.000      41"
      ]
     },
     "execution_count": 56,
     "metadata": {},
     "output_type": "execute_result"
    }
   ],
   "source": [
    "item_descrip_analysis.head()"
   ]
  },
  {
   "cell_type": "code",
   "execution_count": 61,
   "metadata": {},
   "outputs": [
    {
     "data": {
      "text/plain": [
       "<matplotlib.axes._subplots.AxesSubplot at 0x7f7def59fe48>"
      ]
     },
     "execution_count": 61,
     "metadata": {},
     "output_type": "execute_result"
    },
    {
     "data": {
      "image/png": "[encoded data removed]",
      "text/plain": [
       "<Figure size 1440x360 with 1 Axes>"
      ]
     },
     "metadata": {},
     "output_type": "display_data"
    }
   ],
   "source": [
    "f, ax = plt.subplots(figsize=(20, 5))\n",
    "sns.pointplot(x = item_descrip_analysis['length'].values, y = item_descrip_analysis['price'].values, \n",
    "              color='green')"
   ]
  },
  {
   "cell_type": "markdown",
   "metadata": {},
   "source": [
    "# Natural Language Processing for item_description"
   ]
  },
  {
   "cell_type": "markdown",
   "metadata": {},
   "source": [
    "Here in NLP we are using nltk to do the following:\n",
    "1. Removing stop words\n",
    "2. Removing puntuations\n",
    "3. Removing stem words\n",
    "4. Converting the description to lower letters\n",
    "5. Removing all the digits"
   ]
  },
  {
   "cell_type": "markdown",
   "metadata": {},
   "source": [
    "### Removing all the puntuations and special characters from the description."
   ]
  },
  {
   "cell_type": "code",
   "execution_count": 66,
   "metadata": {},
   "outputs": [],
   "source": [
    "import string\n",
    "def removal_puntuations(x):\n",
    "    x =  ' '.join(word.strip(string.punctuation) for word in x.split())\n",
    "    return x"
   ]
  },
  {
   "cell_type": "markdown",
   "metadata": {},
   "source": [
    "### Removing stop words (is, are, the) which are unrelevant for our analysis"
   ]
  },
  {
   "cell_type": "code",
   "execution_count": 67,
   "metadata": {},
   "outputs": [],
   "source": [
    "from nltk.corpus import stopwords\n",
    "try:\n",
    "    stop = stopwords.words('english')\n",
    "except:\n",
    "    nltk.download('stopwords')\n",
    "    stop = stopwords.words('english')\n",
    "\n",
    "def removal_stop_words(x):\n",
    "    x =  ' '.join([word for word in x.split() if word not in (stop)])\n",
    "    return x"
   ]
  },
  {
   "cell_type": "markdown",
   "metadata": {},
   "source": [
    "### Removing all the digits "
   ]
  },
  {
   "cell_type": "code",
   "execution_count": 68,
   "metadata": {},
   "outputs": [],
   "source": [
    "digits = '0123456789'\n",
    "def removal_digits(x):\n",
    "    x =  ''.join([i for i in x if not i.isdigit()])\n",
    "    return x"
   ]
  },
  {
   "cell_type": "markdown",
   "metadata": {},
   "source": [
    "### Convert the description to lower letters"
   ]
  },
  {
   "cell_type": "code",
   "execution_count": 69,
   "metadata": {},
   "outputs": [],
   "source": [
    "def lowercase(x):\n",
    "    return x.lower()"
   ]
  },
  {
   "cell_type": "markdown",
   "metadata": {},
   "source": [
    "### Removing stem words (converting all the words into their root form)"
   ]
  },
  {
   "cell_type": "code",
   "execution_count": 70,
   "metadata": {},
   "outputs": [
    {
     "name": "stdout",
     "output_type": "stream",
     "text": [
      "[nltk_data] Downloading package punkt to /root/nltk_data...\n",
      "[nltk_data]   Package punkt is already up-to-date!\n"
     ]
    }
   ],
   "source": [
    "from nltk.stem import PorterStemmer\n",
    "from nltk.tokenize import sent_tokenize, word_tokenize\n",
    "import nltk\n",
    "nltk.download('punkt')\n",
    "  \n",
    "ps = PorterStemmer()\n",
    "def removal_stem_words(x):\n",
    "    x = ' '.join(ps.stem(word) for word in x.split())\n",
    "    return x"
   ]
  },
  {
   "cell_type": "markdown",
   "metadata": {},
   "source": [
    "## Preprocessing the Data\n",
    "\n",
    "To do so we need to combine both test and train data and run all the feature scaling functions"
   ]
  },
  {
   "cell_type": "code",
   "execution_count": 71,
   "metadata": {},
   "outputs": [
    {
     "data": {
      "text/html": [
       "<div>\n",
       "<style scoped>\n",
       "    .dataframe tbody tr th:only-of-type {\n",
       "        vertical-align: middle;\n",
       "    }\n",
       "\n",
       "    .dataframe tbody tr th {\n",
       "        vertical-align: top;\n",
       "    }\n",
       "\n",
       "    .dataframe thead th {\n",
       "        text-align: right;\n",
       "    }\n",
       "</style>\n",
       "<table border=\"1\" class=\"dataframe\">\n",
       "  <thead>\n",
       "    <tr style=\"text-align: right;\">\n",
       "      <th></th>\n",
       "      <th>brand_name</th>\n",
       "      <th>category_name</th>\n",
       "      <th>item_condition_id</th>\n",
       "      <th>item_description</th>\n",
       "      <th>name</th>\n",
       "      <th>price</th>\n",
       "      <th>shipping</th>\n",
       "      <th>test_id</th>\n",
       "      <th>train_id</th>\n",
       "    </tr>\n",
       "  </thead>\n",
       "  <tbody>\n",
       "    <tr>\n",
       "      <th>0</th>\n",
       "      <td>NaN</td>\n",
       "      <td>Men/Tops/T-shirts</td>\n",
       "      <td>3</td>\n",
       "      <td>No description yet</td>\n",
       "      <td>MLB Cincinnati Reds T Shirt Size XL</td>\n",
       "      <td>10.000</td>\n",
       "      <td>1</td>\n",
       "      <td>nan</td>\n",
       "      <td>0.000</td>\n",
       "    </tr>\n",
       "    <tr>\n",
       "      <th>1</th>\n",
       "      <td>Razer</td>\n",
       "      <td>Electronics/Computers &amp; Tablets/Components &amp; P...</td>\n",
       "      <td>3</td>\n",
       "      <td>This keyboard is in great condition and works ...</td>\n",
       "      <td>Razer BlackWidow Chroma Keyboard</td>\n",
       "      <td>52.000</td>\n",
       "      <td>0</td>\n",
       "      <td>nan</td>\n",
       "      <td>1.000</td>\n",
       "    </tr>\n",
       "    <tr>\n",
       "      <th>2</th>\n",
       "      <td>Target</td>\n",
       "      <td>Women/Tops &amp; Blouses/Blouse</td>\n",
       "      <td>1</td>\n",
       "      <td>Adorable top with a hint of lace and a key hol...</td>\n",
       "      <td>AVA-VIV Blouse</td>\n",
       "      <td>10.000</td>\n",
       "      <td>1</td>\n",
       "      <td>nan</td>\n",
       "      <td>2.000</td>\n",
       "    </tr>\n",
       "    <tr>\n",
       "      <th>3</th>\n",
       "      <td>NaN</td>\n",
       "      <td>Home/Home Décor/Home Décor Accents</td>\n",
       "      <td>1</td>\n",
       "      <td>New with tags. Leather horses. Retail for [rm]...</td>\n",
       "      <td>Leather Horse Statues</td>\n",
       "      <td>35.000</td>\n",
       "      <td>1</td>\n",
       "      <td>nan</td>\n",
       "      <td>3.000</td>\n",
       "    </tr>\n",
       "    <tr>\n",
       "      <th>4</th>\n",
       "      <td>NaN</td>\n",
       "      <td>Women/Jewelry/Necklaces</td>\n",
       "      <td>1</td>\n",
       "      <td>Complete with certificate of authenticity</td>\n",
       "      <td>24K GOLD plated rose</td>\n",
       "      <td>44.000</td>\n",
       "      <td>0</td>\n",
       "      <td>nan</td>\n",
       "      <td>4.000</td>\n",
       "    </tr>\n",
       "  </tbody>\n",
       "</table>\n",
       "</div>"
      ],
      "text/plain": [
       "  brand_name                                      category_name  \\\n",
       "0        NaN                                  Men/Tops/T-shirts   \n",
       "1      Razer  Electronics/Computers & Tablets/Components & P...   \n",
       "2     Target                        Women/Tops & Blouses/Blouse   \n",
       "3        NaN                 Home/Home Décor/Home Décor Accents   \n",
       "4        NaN                            Women/Jewelry/Necklaces   \n",
       "\n",
       "   item_condition_id                                   item_description  \\\n",
       "0                  3                                 No description yet   \n",
       "1                  3  This keyboard is in great condition and works ...   \n",
       "2                  1  Adorable top with a hint of lace and a key hol...   \n",
       "3                  1  New with tags. Leather horses. Retail for [rm]...   \n",
       "4                  1          Complete with certificate of authenticity   \n",
       "\n",
       "                                  name  price  shipping  test_id  train_id  \n",
       "0  MLB Cincinnati Reds T Shirt Size XL 10.000         1      nan     0.000  \n",
       "1     Razer BlackWidow Chroma Keyboard 52.000         0      nan     1.000  \n",
       "2                       AVA-VIV Blouse 10.000         1      nan     2.000  \n",
       "3                Leather Horse Statues 35.000         1      nan     3.000  \n",
       "4                 24K GOLD plated rose 44.000         0      nan     4.000  "
      ]
     },
     "execution_count": 71,
     "metadata": {},
     "output_type": "execute_result"
    }
   ],
   "source": [
    "new_combined = train_data.append(test_data_1)\n",
    "new_combined.head()"
   ]
  },
  {
   "cell_type": "markdown",
   "metadata": {},
   "source": [
    "### Size of train and test data"
   ]
  },
  {
   "cell_type": "code",
   "execution_count": 72,
   "metadata": {},
   "outputs": [
    {
     "name": "stdout",
     "output_type": "stream",
     "text": [
      "train_data: 1482535\n",
      "test_data: 693359\n",
      "total_combined_data: 2175894\n"
     ]
    }
   ],
   "source": [
    "print('train_data:',train_data.shape[0])\n",
    "print('test_data:',test_data_1.shape[0])\n",
    "print('total_combined_data:', new_combined.shape[0])"
   ]
  },
  {
   "cell_type": "code",
   "execution_count": 73,
   "metadata": {},
   "outputs": [],
   "source": [
    "new_combined['item_description'] = new_combined['item_description'].astype(str)\n",
    "new_combined['name'] = new_combined['name'].astype(str)\n",
    "\n",
    "new_combined['item_description'] = new_combined['item_description'].apply(removal_puntuations)\n",
    "new_combined['item_description'] = new_combined['item_description'].apply(removal_digits)\n",
    "new_combined['item_description'] = new_combined['item_description'].apply(removal_stop_words)\n",
    "new_combined['item_description'] = new_combined['item_description'].apply(lowercase)\n",
    "new_combined['item_description'] = new_combined['item_description'].apply(removal_stem_words)\n",
    "\n",
    "new_combined['name'] = new_combined['name'].apply(removal_puntuations)\n",
    "new_combined['name'] = new_combined['name'].apply(removal_digits)\n",
    "new_combined['name'] = new_combined['name'].apply(removal_stop_words)\n",
    "new_combined['name'] = new_combined['name'].apply(lowercase)\n",
    "new_combined['name'] = new_combined['name'].apply(removal_stem_words)"
   ]
  },
  {
   "cell_type": "code",
   "execution_count": 74,
   "metadata": {},
   "outputs": [
    {
     "data": {
      "text/html": [
       "<div>\n",
       "<style scoped>\n",
       "    .dataframe tbody tr th:only-of-type {\n",
       "        vertical-align: middle;\n",
       "    }\n",
       "\n",
       "    .dataframe tbody tr th {\n",
       "        vertical-align: top;\n",
       "    }\n",
       "\n",
       "    .dataframe thead th {\n",
       "        text-align: right;\n",
       "    }\n",
       "</style>\n",
       "<table border=\"1\" class=\"dataframe\">\n",
       "  <thead>\n",
       "    <tr style=\"text-align: right;\">\n",
       "      <th></th>\n",
       "      <th>brand_name</th>\n",
       "      <th>category_name</th>\n",
       "      <th>item_condition_id</th>\n",
       "      <th>item_description</th>\n",
       "      <th>name</th>\n",
       "      <th>price</th>\n",
       "      <th>shipping</th>\n",
       "      <th>test_id</th>\n",
       "      <th>train_id</th>\n",
       "    </tr>\n",
       "  </thead>\n",
       "  <tbody>\n",
       "    <tr>\n",
       "      <th>0</th>\n",
       "      <td>NaN</td>\n",
       "      <td>Men/Tops/T-shirts</td>\n",
       "      <td>3</td>\n",
       "      <td>no descript yet</td>\n",
       "      <td>mlb cincinnati red t shirt size xl</td>\n",
       "      <td>10.000</td>\n",
       "      <td>1</td>\n",
       "      <td>nan</td>\n",
       "      <td>0.000</td>\n",
       "    </tr>\n",
       "    <tr>\n",
       "      <th>1</th>\n",
       "      <td>Razer</td>\n",
       "      <td>Electronics/Computers &amp; Tablets/Components &amp; P...</td>\n",
       "      <td>3</td>\n",
       "      <td>thi keyboard great condit work like came box a...</td>\n",
       "      <td>razer blackwidow chroma keyboard</td>\n",
       "      <td>52.000</td>\n",
       "      <td>0</td>\n",
       "      <td>nan</td>\n",
       "      <td>1.000</td>\n",
       "    </tr>\n",
       "    <tr>\n",
       "      <th>2</th>\n",
       "      <td>Target</td>\n",
       "      <td>Women/Tops &amp; Blouses/Blouse</td>\n",
       "      <td>1</td>\n",
       "      <td>ador top hint lace key hole back the pale pink...</td>\n",
       "      <td>ava-viv blous</td>\n",
       "      <td>10.000</td>\n",
       "      <td>1</td>\n",
       "      <td>nan</td>\n",
       "      <td>2.000</td>\n",
       "    </tr>\n",
       "    <tr>\n",
       "      <th>3</th>\n",
       "      <td>NaN</td>\n",
       "      <td>Home/Home Décor/Home Décor Accents</td>\n",
       "      <td>1</td>\n",
       "      <td>new tag leather hors retail rm stand foot high...</td>\n",
       "      <td>leather hors statu</td>\n",
       "      <td>35.000</td>\n",
       "      <td>1</td>\n",
       "      <td>nan</td>\n",
       "      <td>3.000</td>\n",
       "    </tr>\n",
       "    <tr>\n",
       "      <th>4</th>\n",
       "      <td>NaN</td>\n",
       "      <td>Women/Jewelry/Necklaces</td>\n",
       "      <td>1</td>\n",
       "      <td>complet certif authent</td>\n",
       "      <td>k gold plate rose</td>\n",
       "      <td>44.000</td>\n",
       "      <td>0</td>\n",
       "      <td>nan</td>\n",
       "      <td>4.000</td>\n",
       "    </tr>\n",
       "  </tbody>\n",
       "</table>\n",
       "</div>"
      ],
      "text/plain": [
       "  brand_name                                      category_name  \\\n",
       "0        NaN                                  Men/Tops/T-shirts   \n",
       "1      Razer  Electronics/Computers & Tablets/Components & P...   \n",
       "2     Target                        Women/Tops & Blouses/Blouse   \n",
       "3        NaN                 Home/Home Décor/Home Décor Accents   \n",
       "4        NaN                            Women/Jewelry/Necklaces   \n",
       "\n",
       "   item_condition_id                                   item_description  \\\n",
       "0                  3                                    no descript yet   \n",
       "1                  3  thi keyboard great condit work like came box a...   \n",
       "2                  1  ador top hint lace key hole back the pale pink...   \n",
       "3                  1  new tag leather hors retail rm stand foot high...   \n",
       "4                  1                             complet certif authent   \n",
       "\n",
       "                                 name  price  shipping  test_id  train_id  \n",
       "0  mlb cincinnati red t shirt size xl 10.000         1      nan     0.000  \n",
       "1    razer blackwidow chroma keyboard 52.000         0      nan     1.000  \n",
       "2                       ava-viv blous 10.000         1      nan     2.000  \n",
       "3                  leather hors statu 35.000         1      nan     3.000  \n",
       "4                   k gold plate rose 44.000         0      nan     4.000  "
      ]
     },
     "execution_count": 74,
     "metadata": {},
     "output_type": "execute_result"
    }
   ],
   "source": [
    "new_combined.head()"
   ]
  },
  {
   "cell_type": "code",
   "execution_count": 75,
   "metadata": {},
   "outputs": [],
   "source": [
    "new_combined = create_sub_categories(new_combined)"
   ]
  },
  {
   "cell_type": "code",
   "execution_count": 76,
   "metadata": {},
   "outputs": [],
   "source": [
    "new_combined.to_csv('data/final_dataset.csv', index=False) #saving the data to save future compute"
   ]
  },
  {
   "cell_type": "code",
   "execution_count": 77,
   "metadata": {},
   "outputs": [
    {
     "data": {
      "text/html": [
       "<div>\n",
       "<style scoped>\n",
       "    .dataframe tbody tr th:only-of-type {\n",
       "        vertical-align: middle;\n",
       "    }\n",
       "\n",
       "    .dataframe tbody tr th {\n",
       "        vertical-align: top;\n",
       "    }\n",
       "\n",
       "    .dataframe thead th {\n",
       "        text-align: right;\n",
       "    }\n",
       "</style>\n",
       "<table border=\"1\" class=\"dataframe\">\n",
       "  <thead>\n",
       "    <tr style=\"text-align: right;\">\n",
       "      <th></th>\n",
       "      <th>brand_name</th>\n",
       "      <th>category_name</th>\n",
       "      <th>item_condition_id</th>\n",
       "      <th>item_description</th>\n",
       "      <th>name</th>\n",
       "      <th>price</th>\n",
       "      <th>shipping</th>\n",
       "      <th>test_id</th>\n",
       "      <th>train_id</th>\n",
       "      <th>main_category</th>\n",
       "      <th>sub_category</th>\n",
       "      <th>sub_category2</th>\n",
       "    </tr>\n",
       "  </thead>\n",
       "  <tbody>\n",
       "    <tr>\n",
       "      <th>0</th>\n",
       "      <td>NaN</td>\n",
       "      <td>Men/Tops/T-shirts</td>\n",
       "      <td>3</td>\n",
       "      <td>no descript yet</td>\n",
       "      <td>mlb cincinnati red t shirt size xl</td>\n",
       "      <td>10.000</td>\n",
       "      <td>1</td>\n",
       "      <td>nan</td>\n",
       "      <td>0.000</td>\n",
       "      <td>Men</td>\n",
       "      <td>Tops</td>\n",
       "      <td>T-shirts</td>\n",
       "    </tr>\n",
       "    <tr>\n",
       "      <th>1</th>\n",
       "      <td>Razer</td>\n",
       "      <td>Electronics/Computers &amp; Tablets/Components &amp; P...</td>\n",
       "      <td>3</td>\n",
       "      <td>thi keyboard great condit work like came box a...</td>\n",
       "      <td>razer blackwidow chroma keyboard</td>\n",
       "      <td>52.000</td>\n",
       "      <td>0</td>\n",
       "      <td>nan</td>\n",
       "      <td>1.000</td>\n",
       "      <td>Electronics</td>\n",
       "      <td>Computers &amp; Tablets</td>\n",
       "      <td>Components &amp; Parts</td>\n",
       "    </tr>\n",
       "    <tr>\n",
       "      <th>2</th>\n",
       "      <td>Target</td>\n",
       "      <td>Women/Tops &amp; Blouses/Blouse</td>\n",
       "      <td>1</td>\n",
       "      <td>ador top hint lace key hole back the pale pink...</td>\n",
       "      <td>ava-viv blous</td>\n",
       "      <td>10.000</td>\n",
       "      <td>1</td>\n",
       "      <td>nan</td>\n",
       "      <td>2.000</td>\n",
       "      <td>Women</td>\n",
       "      <td>Tops &amp; Blouses</td>\n",
       "      <td>Blouse</td>\n",
       "    </tr>\n",
       "    <tr>\n",
       "      <th>3</th>\n",
       "      <td>NaN</td>\n",
       "      <td>Home/Home Décor/Home Décor Accents</td>\n",
       "      <td>1</td>\n",
       "      <td>new tag leather hors retail rm stand foot high...</td>\n",
       "      <td>leather hors statu</td>\n",
       "      <td>35.000</td>\n",
       "      <td>1</td>\n",
       "      <td>nan</td>\n",
       "      <td>3.000</td>\n",
       "      <td>Home</td>\n",
       "      <td>Home Décor</td>\n",
       "      <td>Home Décor Accents</td>\n",
       "    </tr>\n",
       "    <tr>\n",
       "      <th>4</th>\n",
       "      <td>NaN</td>\n",
       "      <td>Women/Jewelry/Necklaces</td>\n",
       "      <td>1</td>\n",
       "      <td>complet certif authent</td>\n",
       "      <td>k gold plate rose</td>\n",
       "      <td>44.000</td>\n",
       "      <td>0</td>\n",
       "      <td>nan</td>\n",
       "      <td>4.000</td>\n",
       "      <td>Women</td>\n",
       "      <td>Jewelry</td>\n",
       "      <td>Necklaces</td>\n",
       "    </tr>\n",
       "  </tbody>\n",
       "</table>\n",
       "</div>"
      ],
      "text/plain": [
       "  brand_name                                      category_name  \\\n",
       "0        NaN                                  Men/Tops/T-shirts   \n",
       "1      Razer  Electronics/Computers & Tablets/Components & P...   \n",
       "2     Target                        Women/Tops & Blouses/Blouse   \n",
       "3        NaN                 Home/Home Décor/Home Décor Accents   \n",
       "4        NaN                            Women/Jewelry/Necklaces   \n",
       "\n",
       "   item_condition_id                                   item_description  \\\n",
       "0                  3                                    no descript yet   \n",
       "1                  3  thi keyboard great condit work like came box a...   \n",
       "2                  1  ador top hint lace key hole back the pale pink...   \n",
       "3                  1  new tag leather hors retail rm stand foot high...   \n",
       "4                  1                             complet certif authent   \n",
       "\n",
       "                                 name  price  shipping  test_id  train_id  \\\n",
       "0  mlb cincinnati red t shirt size xl 10.000         1      nan     0.000   \n",
       "1    razer blackwidow chroma keyboard 52.000         0      nan     1.000   \n",
       "2                       ava-viv blous 10.000         1      nan     2.000   \n",
       "3                  leather hors statu 35.000         1      nan     3.000   \n",
       "4                   k gold plate rose 44.000         0      nan     4.000   \n",
       "\n",
       "  main_category         sub_category       sub_category2  \n",
       "0           Men                 Tops            T-shirts  \n",
       "1   Electronics  Computers & Tablets  Components & Parts  \n",
       "2         Women       Tops & Blouses              Blouse  \n",
       "3          Home           Home Décor  Home Décor Accents  \n",
       "4         Women              Jewelry           Necklaces  "
      ]
     },
     "execution_count": 77,
     "metadata": {},
     "output_type": "execute_result"
    }
   ],
   "source": [
    "new_combined.head()"
   ]
  },
  {
   "cell_type": "markdown",
   "metadata": {},
   "source": [
    "### We still found that brand_name, and some category have nan values, so need to replace them with some other characters to have the general model"
   ]
  },
  {
   "cell_type": "code",
   "execution_count": 78,
   "metadata": {},
   "outputs": [
    {
     "data": {
      "text/plain": [
       "brand_name            928207\n",
       "category_name           9385\n",
       "item_condition_id          0\n",
       "item_description           0\n",
       "name                       0\n",
       "price                 693359\n",
       "shipping                   0\n",
       "test_id              1482535\n",
       "train_id              693359\n",
       "main_category              0\n",
       "sub_category            9385\n",
       "sub_category2           9385\n",
       "dtype: int64"
      ]
     },
     "execution_count": 78,
     "metadata": {},
     "output_type": "execute_result"
    }
   ],
   "source": [
    "new_combined.isna().sum()"
   ]
  },
  {
   "cell_type": "code",
   "execution_count": 79,
   "metadata": {},
   "outputs": [
    {
     "data": {
      "text/html": [
       "<div>\n",
       "<style scoped>\n",
       "    .dataframe tbody tr th:only-of-type {\n",
       "        vertical-align: middle;\n",
       "    }\n",
       "\n",
       "    .dataframe tbody tr th {\n",
       "        vertical-align: top;\n",
       "    }\n",
       "\n",
       "    .dataframe thead th {\n",
       "        text-align: right;\n",
       "    }\n",
       "</style>\n",
       "<table border=\"1\" class=\"dataframe\">\n",
       "  <thead>\n",
       "    <tr style=\"text-align: right;\">\n",
       "      <th></th>\n",
       "      <th>brand_name</th>\n",
       "      <th>category_name</th>\n",
       "      <th>item_condition_id</th>\n",
       "      <th>item_description</th>\n",
       "      <th>name</th>\n",
       "      <th>price</th>\n",
       "      <th>shipping</th>\n",
       "      <th>test_id</th>\n",
       "      <th>train_id</th>\n",
       "      <th>main_category</th>\n",
       "      <th>sub_category</th>\n",
       "      <th>sub_category2</th>\n",
       "    </tr>\n",
       "  </thead>\n",
       "  <tbody>\n",
       "    <tr>\n",
       "      <th>0</th>\n",
       "      <td>missing</td>\n",
       "      <td>Men/Tops/T-shirts</td>\n",
       "      <td>3</td>\n",
       "      <td>no descript yet</td>\n",
       "      <td>mlb cincinnati red t shirt size xl</td>\n",
       "      <td>10.000</td>\n",
       "      <td>1</td>\n",
       "      <td>nan</td>\n",
       "      <td>0.000</td>\n",
       "      <td>Men</td>\n",
       "      <td>Tops</td>\n",
       "      <td>T-shirts</td>\n",
       "    </tr>\n",
       "    <tr>\n",
       "      <th>1</th>\n",
       "      <td>Razer</td>\n",
       "      <td>Electronics/Computers &amp; Tablets/Components &amp; P...</td>\n",
       "      <td>3</td>\n",
       "      <td>thi keyboard great condit work like came box a...</td>\n",
       "      <td>razer blackwidow chroma keyboard</td>\n",
       "      <td>52.000</td>\n",
       "      <td>0</td>\n",
       "      <td>nan</td>\n",
       "      <td>1.000</td>\n",
       "      <td>Electronics</td>\n",
       "      <td>Computers &amp; Tablets</td>\n",
       "      <td>Components &amp; Parts</td>\n",
       "    </tr>\n",
       "    <tr>\n",
       "      <th>2</th>\n",
       "      <td>Target</td>\n",
       "      <td>Women/Tops &amp; Blouses/Blouse</td>\n",
       "      <td>1</td>\n",
       "      <td>ador top hint lace key hole back the pale pink...</td>\n",
       "      <td>ava-viv blous</td>\n",
       "      <td>10.000</td>\n",
       "      <td>1</td>\n",
       "      <td>nan</td>\n",
       "      <td>2.000</td>\n",
       "      <td>Women</td>\n",
       "      <td>Tops &amp; Blouses</td>\n",
       "      <td>Blouse</td>\n",
       "    </tr>\n",
       "    <tr>\n",
       "      <th>3</th>\n",
       "      <td>missing</td>\n",
       "      <td>Home/Home Décor/Home Décor Accents</td>\n",
       "      <td>1</td>\n",
       "      <td>new tag leather hors retail rm stand foot high...</td>\n",
       "      <td>leather hors statu</td>\n",
       "      <td>35.000</td>\n",
       "      <td>1</td>\n",
       "      <td>nan</td>\n",
       "      <td>3.000</td>\n",
       "      <td>Home</td>\n",
       "      <td>Home Décor</td>\n",
       "      <td>Home Décor Accents</td>\n",
       "    </tr>\n",
       "    <tr>\n",
       "      <th>4</th>\n",
       "      <td>missing</td>\n",
       "      <td>Women/Jewelry/Necklaces</td>\n",
       "      <td>1</td>\n",
       "      <td>complet certif authent</td>\n",
       "      <td>k gold plate rose</td>\n",
       "      <td>44.000</td>\n",
       "      <td>0</td>\n",
       "      <td>nan</td>\n",
       "      <td>4.000</td>\n",
       "      <td>Women</td>\n",
       "      <td>Jewelry</td>\n",
       "      <td>Necklaces</td>\n",
       "    </tr>\n",
       "  </tbody>\n",
       "</table>\n",
       "</div>"
      ],
      "text/plain": [
       "  brand_name                                      category_name  \\\n",
       "0    missing                                  Men/Tops/T-shirts   \n",
       "1      Razer  Electronics/Computers & Tablets/Components & P...   \n",
       "2     Target                        Women/Tops & Blouses/Blouse   \n",
       "3    missing                 Home/Home Décor/Home Décor Accents   \n",
       "4    missing                            Women/Jewelry/Necklaces   \n",
       "\n",
       "   item_condition_id                                   item_description  \\\n",
       "0                  3                                    no descript yet   \n",
       "1                  3  thi keyboard great condit work like came box a...   \n",
       "2                  1  ador top hint lace key hole back the pale pink...   \n",
       "3                  1  new tag leather hors retail rm stand foot high...   \n",
       "4                  1                             complet certif authent   \n",
       "\n",
       "                                 name  price  shipping  test_id  train_id  \\\n",
       "0  mlb cincinnati red t shirt size xl 10.000         1      nan     0.000   \n",
       "1    razer blackwidow chroma keyboard 52.000         0      nan     1.000   \n",
       "2                       ava-viv blous 10.000         1      nan     2.000   \n",
       "3                  leather hors statu 35.000         1      nan     3.000   \n",
       "4                   k gold plate rose 44.000         0      nan     4.000   \n",
       "\n",
       "  main_category         sub_category       sub_category2  \n",
       "0           Men                 Tops            T-shirts  \n",
       "1   Electronics  Computers & Tablets  Components & Parts  \n",
       "2         Women       Tops & Blouses              Blouse  \n",
       "3          Home           Home Décor  Home Décor Accents  \n",
       "4         Women              Jewelry           Necklaces  "
      ]
     },
     "execution_count": 79,
     "metadata": {},
     "output_type": "execute_result"
    }
   ],
   "source": [
    "missing_values = {'brand_name': 'missing', 'sub_category':'None', 'sub_category2':'None'}\n",
    "new_combined = new_combined.fillna(value=missing_values)\n",
    "new_combined.head()"
   ]
  },
  {
   "cell_type": "code",
   "execution_count": 80,
   "metadata": {},
   "outputs": [
    {
     "data": {
      "text/plain": [
       "brand_name                 0\n",
       "category_name           9385\n",
       "item_condition_id          0\n",
       "item_description           0\n",
       "name                       0\n",
       "price                 693359\n",
       "shipping                   0\n",
       "test_id              1482535\n",
       "train_id              693359\n",
       "main_category              0\n",
       "sub_category               0\n",
       "sub_category2              0\n",
       "dtype: int64"
      ]
     },
     "execution_count": 80,
     "metadata": {},
     "output_type": "execute_result"
    }
   ],
   "source": [
    "new_combined.isna().sum()"
   ]
  },
  {
   "cell_type": "markdown",
   "metadata": {},
   "source": [
    "## Converting all the categorical or string based columns into sparse matrix to train the model.\n",
    "\n",
    "To do so we are using diffrent types of encoder:\n",
    "1. CountVectorizer: will apply it on 'name' column which will give sparse matrix of the occurence of all the words.\n",
    "2. TfidfVectorizer: will apply it on 'item_description' column which will also give the sparse matrix of the occurence but in normalized form\n",
    "3. LabelBinarizer: will apply it on 'brand_name' column as its a categorical variable so it will create a 2D matrix with shape (number_of_rows, number_of_unique_brands)"
   ]
  },
  {
   "cell_type": "code",
   "execution_count": 81,
   "metadata": {},
   "outputs": [],
   "source": [
    "from sklearn.feature_extraction.text import CountVectorizer\n",
    "cv = CountVectorizer(max_df = 10)\n",
    "name_mat = cv.fit_transform(new_combined['name'])"
   ]
  },
  {
   "cell_type": "code",
   "execution_count": 82,
   "metadata": {},
   "outputs": [],
   "source": [
    "cv = CountVectorizer()\n",
    "main_mat = cv.fit_transform(new_combined['main_category'])"
   ]
  },
  {
   "cell_type": "code",
   "execution_count": 83,
   "metadata": {},
   "outputs": [],
   "source": [
    "cv = CountVectorizer()\n",
    "sub_mat = cv.fit_transform(new_combined['sub_category'])"
   ]
  },
  {
   "cell_type": "code",
   "execution_count": 84,
   "metadata": {},
   "outputs": [],
   "source": [
    "cv = CountVectorizer()\n",
    "sub2_mat = cv.fit_transform(new_combined['sub_category2'])"
   ]
  },
  {
   "cell_type": "code",
   "execution_count": 85,
   "metadata": {},
   "outputs": [],
   "source": [
    "from sklearn.feature_extraction.text import TfidfVectorizer\n",
    "tfidf = TfidfVectorizer(max_features = 60000, ngram_range = (1,3), stop_words = 'english')\n",
    "descrip_mat = tfidf.fit_transform(new_combined['item_description'])"
   ]
  },
  {
   "cell_type": "code",
   "execution_count": 86,
   "metadata": {},
   "outputs": [],
   "source": [
    "from sklearn.preprocessing import LabelBinarizer\n",
    "onehotencoder = LabelBinarizer(sparse_output=True)\n",
    "brand_mat = onehotencoder.fit_transform(new_combined['brand_name'])"
   ]
  },
  {
   "cell_type": "code",
   "execution_count": 87,
   "metadata": {},
   "outputs": [],
   "source": [
    "item_shipping_mat = pd.get_dummies(new_combined[['item_condition_id', 'shipping']], sparse = True).values"
   ]
  },
  {
   "cell_type": "markdown",
   "metadata": {},
   "source": [
    "### Now we have all the matrix, we need to combine them to make the proper dataset to train/test the model\n",
    "\n",
    "- Since item_shipping_mat is numpy array, we need to convert it to csr_matrix\n",
    "- will use hstack to combine all the sparse matrix into one"
   ]
  },
  {
   "cell_type": "code",
   "execution_count": 88,
   "metadata": {},
   "outputs": [],
   "source": [
    "from scipy import sparse\n",
    "item_shipping_mat_csr = sparse.csr_matrix(item_shipping_mat)"
   ]
  },
  {
   "cell_type": "code",
   "execution_count": 89,
   "metadata": {},
   "outputs": [
    {
     "data": {
      "text/plain": [
       "scipy.sparse.csr.csr_matrix"
      ]
     },
     "execution_count": 89,
     "metadata": {},
     "output_type": "execute_result"
    }
   ],
   "source": [
    "type(item_shipping_mat_csr)"
   ]
  },
  {
   "cell_type": "code",
   "execution_count": 90,
   "metadata": {},
   "outputs": [],
   "source": [
    "train_test_dataset = sparse.hstack([brand_mat, main_mat, sub_mat, sub2_mat, name_mat, descrip_mat, \n",
    "                                    item_shipping_mat]).tocsr()"
   ]
  },
  {
   "cell_type": "code",
   "execution_count": 91,
   "metadata": {},
   "outputs": [
    {
     "data": {
      "text/plain": [
       "(2175894, 151721)"
      ]
     },
     "execution_count": 91,
     "metadata": {},
     "output_type": "execute_result"
    }
   ],
   "source": [
    "train_test_dataset.shape"
   ]
  },
  {
   "cell_type": "markdown",
   "metadata": {},
   "source": [
    "### Here we can see that number of features from 8 has been increased to 151721"
   ]
  },
  {
   "cell_type": "code",
   "execution_count": 92,
   "metadata": {},
   "outputs": [],
   "source": [
    "import scipy.sparse\n",
    "scipy.sparse.save_npz('data/sparse_matrix.npz', train_test_dataset)"
   ]
  },
  {
   "cell_type": "code",
   "execution_count": 2,
   "metadata": {},
   "outputs": [],
   "source": [
    "import scipy.sparse\n",
    "train_test_dataset = scipy.sparse.load_npz('data/sparse_matrix.npz')"
   ]
  },
  {
   "cell_type": "code",
   "execution_count": 93,
   "metadata": {},
   "outputs": [
    {
     "data": {
      "text/plain": [
       "(2175894, 151721)"
      ]
     },
     "execution_count": 93,
     "metadata": {},
     "output_type": "execute_result"
    }
   ],
   "source": [
    "train_test_dataset.shape"
   ]
  },
  {
   "cell_type": "markdown",
   "metadata": {},
   "source": [
    "# Machine Learning"
   ]
  },
  {
   "cell_type": "markdown",
   "metadata": {},
   "source": [
    "## Splitting into train and test datasets"
   ]
  },
  {
   "cell_type": "code",
   "execution_count": 7,
   "metadata": {},
   "outputs": [],
   "source": [
    "xtrain = train_test_dataset[:1482535]\n",
    "ytrain = train_data['price'].values\n",
    "xtest = train_test_dataset[1482535:]"
   ]
  },
  {
   "cell_type": "code",
   "execution_count": 119,
   "metadata": {},
   "outputs": [
    {
     "data": {
      "text/plain": [
       "((1482535, 151721), (1482535,))"
      ]
     },
     "execution_count": 119,
     "metadata": {},
     "output_type": "execute_result"
    }
   ],
   "source": [
    "xtrain.shape, ytrain.shape"
   ]
  },
  {
   "cell_type": "code",
   "execution_count": 120,
   "metadata": {},
   "outputs": [
    {
     "data": {
      "text/plain": [
       "array([2.30258509, 3.95124372, 2.30258509, ..., 2.48490665, 3.80666249,\n",
       "       3.09104245])"
      ]
     },
     "execution_count": 120,
     "metadata": {},
     "output_type": "execute_result"
    }
   ],
   "source": [
    "ytrain"
   ]
  },
  {
   "cell_type": "markdown",
   "metadata": {},
   "source": [
    "## Exploring different Machine Learning Algorithm and using cross_validation to calculate the highest accuracy"
   ]
  },
  {
   "cell_type": "markdown",
   "metadata": {},
   "source": [
    "## Ridge Regression\n",
    "\n",
    "![Alt text](5.png)\n",
    "![Alt text](6.png)\n",
    "![Alt text](7.png)\n",
    "![Alt text](8.png)"
   ]
  },
  {
   "cell_type": "code",
   "execution_count": 142,
   "metadata": {},
   "outputs": [
    {
     "name": "stdout",
     "output_type": "stream",
     "text": [
      "Loss: 30.298763749438383\n",
      "Time Taken: 110.44774222373962\n"
     ]
    }
   ],
   "source": [
    "from sklearn.linear_model import Ridge\n",
    "from sklearn.model_selection import train_test_split\n",
    "import math\n",
    "X_train, X_test, y_train, y_test = train_test_split(xtrain, ytrain, test_size = 0.1)\n",
    "now = time.time()\n",
    "model_ridge = Ridge(solver = 'sag', fit_intercept = False)\n",
    "model_ridge.fit(X_train, y_train)\n",
    "y_pred_ridge = model_ridge.predict(X_test)\n",
    "rms = math.sqrt(mean_squared_error(y_test, y_pred_ridge))\n",
    "print('Loss:',rms)\n",
    "print('Time Taken:',time.time() - now)"
   ]
  },
  {
   "cell_type": "code",
   "execution_count": 143,
   "metadata": {},
   "outputs": [
    {
     "data": {
      "text/plain": [
       "array([315.,  36.,  24.,  16.,  23.,  12.,  18.,  15.,  23.,  14., 143.,\n",
       "        34.,   7.,  27.,  26.,  13.,   6.,  51.,  18.,  15.,  25.,  30.,\n",
       "        17.,  10.,  21.,  30.,  10.,  19.,  17.,  16.,  16.,  31.,  24.,\n",
       "        46.,   3.,   5., 100.,   7.,  20.,  35.,  34.,  35.,  50.,   8.,\n",
       "        18.,   8.,  15.,  20.,  16.,  70.])"
      ]
     },
     "execution_count": 143,
     "metadata": {},
     "output_type": "execute_result"
    }
   ],
   "source": [
    "y_test[:50]"
   ]
  },
  {
   "cell_type": "code",
   "execution_count": 144,
   "metadata": {},
   "outputs": [
    {
     "data": {
      "text/plain": [
       "array([232.6587539 ,  31.0714124 ,  29.75845072,  19.4865851 ,\n",
       "        26.3316417 ,   7.82036554,  11.62702811,  17.56351441,\n",
       "        24.89793811,  37.45927037,  88.98717705,  17.84674427,\n",
       "        20.27993499,  51.60605937,  25.48078299,  22.58179237,\n",
       "         6.61034001,  35.32447831,  20.45735885,  59.8191297 ,\n",
       "        21.25931733,  40.5468098 ,  22.2522782 ,  -0.39874764,\n",
       "        48.18855254,  21.51743743,  23.38997729,  26.25282817,\n",
       "        27.88447366,  15.53454433,  32.82200916,  22.99390969,\n",
       "        30.79071527,  58.81903172,   5.16667625,  17.61888814,\n",
       "       175.34692522,   5.35996102,  26.88352358,  30.95118787,\n",
       "        38.06725967,  30.73621634,  62.89770776,   1.16534781,\n",
       "        12.04954617,  16.15281855,  18.67367234,  36.54183008,\n",
       "        28.97822776,  67.22669586])"
      ]
     },
     "execution_count": 144,
     "metadata": {},
     "output_type": "execute_result"
    }
   ],
   "source": [
    "y_pred_ridge[:50]"
   ]
  },
  {
   "attachments": {
    "image.png": {
     "image/png": "[encoded data removed]"
    }
   },
   "cell_type": "markdown",
   "metadata": {},
   "source": [
    "## LightGBM\n",
    "\n",
    "**What is Light GBM?**\n",
    "\n",
    "Light GBM is a gradient boosting framework that uses tree based learning algorithm.\n",
    "\n",
    "**How it differs from other tree based algorithm?**\n",
    "\n",
    "Light GBM grows tree vertically while other algorithm grows trees horizontally meaning that Light GBM grows tree leaf-wise while other algorithm grows level-wise. It will choose the leaf with max delta loss to grow. When growing the same leaf, Leaf-wise algorithm can reduce more loss than a level-wise algorithm.\n",
    "\n",
    "![image.png](attachment:image.png)\n",
    "\n",
    "![image.png](attachment:image.png)\n",
    "\n",
    "**Can we use Light GBM everywhere?**\n",
    "\n",
    "No, it is not advisable to use LGBM on small datasets. Light GBM is sensitive to overfitting and can easily overfit small data. Their is no threshold on the number of rows but my experience suggests me to use it only for data with 10,000+ rows."
   ]
  },
  {
   "cell_type": "code",
   "execution_count": 153,
   "metadata": {},
   "outputs": [
    {
     "name": "stdout",
     "output_type": "stream",
     "text": [
      "Loss: 31.51026504298643\n",
      "Time Taken: 58.74648308753967\n"
     ]
    }
   ],
   "source": [
    "from sklearn.model_selection import train_test_split\n",
    "import math\n",
    "import lightgbm as lgb\n",
    "X_train, X_test, y_train, y_test = train_test_split(xtrain, ytrain, test_size = 0.1)\n",
    "y_train_log = np.log1p(y_train)\n",
    "d_train = lgb.Dataset(X_train, label=y_train_log)\n",
    "params = {}\n",
    "#params['learning_rate'] = 0.003\n",
    "params['boosting_type'] = 'gbdt'\n",
    "params['objective'] = 'regression'\n",
    "params['metric'] = 'rmse'\n",
    "now = time.time()\n",
    "clf = lgb.train(params, d_train, 100, init_model=clf, learning_rates=lambda iter: 0.03 * (0.99 ** iter))\n",
    "y_pred_lgbm = clf.predict(X_test)\n",
    "y_pred_lgbm = np.expm1(y_pred_lgbm)\n",
    "rms = math.sqrt(mean_squared_error(y_test, y_pred_lgbm))\n",
    "print('Loss:',rms)\n",
    "print('Time Taken:',time.time() - now)"
   ]
  },
  {
   "cell_type": "code",
   "execution_count": 154,
   "metadata": {},
   "outputs": [
    {
     "data": {
      "text/plain": [
       "array([14.,  6., 10., 35., 12.,  5., 99., 72., 10., 19., 17., 10., 10.,\n",
       "       18., 10., 31., 99.,  8., 14., 32., 11., 55., 15.,  9., 44., 45.,\n",
       "       10., 66.,  8.,  8., 13., 81., 30., 66., 35., 10., 19.,  9., 17.,\n",
       "       24., 23.,  7., 26.,  6., 49.,  7., 36., 13., 10., 46.])"
      ]
     },
     "execution_count": 154,
     "metadata": {},
     "output_type": "execute_result"
    }
   ],
   "source": [
    "y_test[50:100]"
   ]
  },
  {
   "cell_type": "code",
   "execution_count": 155,
   "metadata": {},
   "outputs": [
    {
     "data": {
      "text/plain": [
       "array([17.93182019, 10.73253913, 14.27699573, 26.62021822, 16.08758775,\n",
       "        7.92255667, 76.85706483, 10.49487018, 23.24514625, 38.13832393,\n",
       "       16.31088539, 12.40411681, 18.29843816, 28.37307876, 15.8483662 ,\n",
       "       17.23817511, 29.4953987 ,  9.35596566, 14.37706721, 16.78085653,\n",
       "       10.16628405, 53.51804507, 11.98203358, 13.1134069 , 16.72868105,\n",
       "       31.16552991,  8.42827103, 25.41423044, 11.34092439,  9.78896938,\n",
       "       16.75840428, 80.04214498, 18.10891713, 16.29362178, 19.86775722,\n",
       "       10.9047366 , 16.23948458, 15.55872494,  9.18932246, 30.27915431,\n",
       "       13.1313908 , 15.22269664, 19.04828059, 10.1331885 , 23.2083595 ,\n",
       "       13.83273614, 42.73367535, 13.51425196, 14.7786328 , 26.13148768])"
      ]
     },
     "execution_count": 155,
     "metadata": {},
     "output_type": "execute_result"
    }
   ],
   "source": [
    "y_pred_lgbm[50:100]"
   ]
  },
  {
   "cell_type": "markdown",
   "metadata": {},
   "source": [
    "## Linear Regression\n",
    "\n",
    "![Alt text](1.png)\n",
    "![Alt text](2.png)\n",
    "![Alt text](3.png)\n",
    "![Alt text](4.png)"
   ]
  },
  {
   "cell_type": "code",
   "execution_count": 156,
   "metadata": {},
   "outputs": [
    {
     "name": "stdout",
     "output_type": "stream",
     "text": [
      "Loss: 46.30636796049923\n",
      "Time Taken: 7176.847347021103\n"
     ]
    }
   ],
   "source": [
    "from sklearn.linear_model import LinearRegression\n",
    "from sklearn.model_selection import train_test_split\n",
    "import math\n",
    "X_train, X_test, y_train, y_test = train_test_split(xtrain, ytrain, test_size = 0.1)\n",
    "now = time.time()\n",
    "model_linear = LinearRegression()\n",
    "model_linear.fit(X_train, y_train)\n",
    "y_pred_linear = model_linear.predict(X_test)\n",
    "rms = math.sqrt(mean_squared_error(y_test, y_pred_ridge))\n",
    "print('Loss:',rms)\n",
    "print('Time Taken:',time.time() - now)"
   ]
  },
  {
   "cell_type": "code",
   "execution_count": 157,
   "metadata": {},
   "outputs": [
    {
     "data": {
      "text/plain": [
       "array([21.,  5., 12., 21., 14., 16., 10.,  9., 37., 31., 24., 32., 10.,\n",
       "        6., 13., 10., 15., 31., 11., 36., 35.,  7., 44., 34., 31., 12.,\n",
       "       52., 19., 23., 12., 15.,  9., 31.,  9., 14., 10., 16.,  8., 32.,\n",
       "       44., 16., 19., 10., 12., 46.,  9., 12., 34., 21., 29.])"
      ]
     },
     "execution_count": 157,
     "metadata": {},
     "output_type": "execute_result"
    }
   ],
   "source": [
    "y_test[:50]"
   ]
  },
  {
   "cell_type": "code",
   "execution_count": 158,
   "metadata": {},
   "outputs": [
    {
     "data": {
      "text/plain": [
       "array([ 7.01803739, 15.56346527, 10.84872434, 29.61798262, 27.47554461,\n",
       "        9.57060376, 12.21932197, 30.22936295, 31.0421079 , 26.65148664,\n",
       "       35.6802469 ,  9.53200528, 16.98914429, 14.48090532,  8.47320936,\n",
       "       34.65597867, 21.88367344, 35.3726478 , 49.35279535, 57.76140394,\n",
       "       16.01787172, 15.12712851, 21.83406351, 57.06498325, 44.66909547,\n",
       "        8.27665374, 36.68862659, 16.12689859,  9.41132291, 28.41325334,\n",
       "        5.28938456, 23.63999416, 36.96726195, 28.48632391,  9.60231043,\n",
       "       22.58611311, 13.33549873, 24.07777268, 23.62884335, 72.51144442,\n",
       "       16.41319451, 35.88303143, 13.69224772, 21.90576305, 32.05742581,\n",
       "       39.94113229,  5.57275239,  1.74859387, 13.06295464, 14.06080132])"
      ]
     },
     "execution_count": 158,
     "metadata": {},
     "output_type": "execute_result"
    }
   ],
   "source": [
    "y_pred_linear[:50]"
   ]
  },
  {
   "cell_type": "markdown",
   "metadata": {},
   "source": [
    "## Random Forest"
   ]
  },
  {
   "cell_type": "code",
   "execution_count": null,
   "metadata": {},
   "outputs": [],
   "source": [
    "from sklearn.ensemble import RandomForestRegressor\n",
    "from sklearn.model_selection import train_test_split\n",
    "import math,time\n",
    "X_train, X_test, y_train, y_test = train_test_split(xtrain, ytrain, test_size = 0.1)\n",
    "now = time.time()\n",
    "model_rd = RandomForestRegressor()\n",
    "model_rd.fit(X_train, y_train)\n",
    "y_pred_rd = model_linear.predict(X_test)\n",
    "rms = math.sqrt(mean_squared_error(y_test, y_pred_rd))\n",
    "print('Loss:',rms)\n",
    "print('Time Taken:',time.time() - now)"
   ]
  },
  {
   "cell_type": "code",
   "execution_count": null,
   "metadata": {},
   "outputs": [],
   "source": [
    "y_test[:50]"
   ]
  },
  {
   "cell_type": "code",
   "execution_count": null,
   "metadata": {},
   "outputs": [],
   "source": [
    "y_pred_rd[:50]"
   ]
  },
  {
   "cell_type": "code",
   "execution_count": null,
   "metadata": {},
   "outputs": [],
   "source": []
  }
 ],
 "metadata": {
  "kernelspec": {
   "display_name": "Python 3",
   "language": "python",
   "name": "python3"
  },
  "language_info": {
   "codemirror_mode": {
    "name": "ipython",
    "version": 3
   },
   "file_extension": ".py",
   "mimetype": "text/x-python",
   "name": "python",
   "nbconvert_exporter": "python",
   "pygments_lexer": "ipython3",
   "version": "3.6.6"
  }
 },
 "nbformat": 4,
 "nbformat_minor": 2
}
